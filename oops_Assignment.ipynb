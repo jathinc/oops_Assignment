{
 "cells": [
  {
   "cell_type": "code",
   "execution_count": 1,
   "metadata": {},
   "outputs": [
    {
     "name": "stdout",
     "output_type": "stream",
     "text": [
      "in class A\n",
      "in class B\n",
      "in class C\n"
     ]
    }
   ],
   "source": [
    "# oops assignment\n",
    "# define two classes A and B, each of which has a method defined by the same name. Define a sub-class C, \n",
    "# which inherits from A and B and invokes the methods defined in A and B. \n",
    "\n",
    "# Define class A which has the method print_val() defined. \n",
    "class A():\n",
    "    def __init__(self):\n",
    "        super(A,self).__init__()\n",
    "        \n",
    "    def print_val():\n",
    "        print(\"in class A\")\n",
    "\n",
    "# Define class B which has the method print_val() defined.         \n",
    "class B():\n",
    "    def __init__(self):\n",
    "        super(B,self).__init__()\n",
    "    \n",
    "    def print_val():\n",
    "        print(\"in class B\")\n",
    "\n",
    "# Define class C, which inherits from class A and B and invokes the methods defined in those classes        \n",
    "class C(A,B):\n",
    "    def __init__(self):\n",
    "        super(C,self).__init__()\n",
    "        \n",
    "        A.print_val()\n",
    "        B.print_val()\n",
    "        print(\"in class C\")\n",
    "\n",
    "# Instance\n",
    "\n",
    "T=C()"
   ]
  },
  {
   "cell_type": "code",
   "execution_count": null,
   "metadata": {},
   "outputs": [],
   "source": []
  }
 ],
 "metadata": {
  "kernelspec": {
   "display_name": "Python 3",
   "language": "python",
   "name": "python3"
  },
  "language_info": {
   "codemirror_mode": {
    "name": "ipython",
    "version": 3
   },
   "file_extension": ".py",
   "mimetype": "text/x-python",
   "name": "python",
   "nbconvert_exporter": "python",
   "pygments_lexer": "ipython3",
   "version": "3.7.4"
  }
 },
 "nbformat": 4,
 "nbformat_minor": 2
}
